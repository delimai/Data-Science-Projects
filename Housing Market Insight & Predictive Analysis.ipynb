{
 "cells": [
  {
   "cell_type": "code",
   "execution_count": null,
   "metadata": {},
   "outputs": [],
   "source": [
    "import pandas as pd\n",
    "import numpy as np\n",
    "import matplotlib.pyplot as plt\n",
    "import seaborn as sns"
   ]
  },
  {
   "cell_type": "code",
   "execution_count": null,
   "metadata": {},
   "outputs": [],
   "source": [
    "housing_df = pd.read_csv('Housing.csv')"
   ]
  },
  {
   "cell_type": "code",
   "execution_count": null,
   "metadata": {},
   "outputs": [],
   "source": [
    "housing_df.info()"
   ]
  },
  {
   "cell_type": "code",
   "execution_count": null,
   "metadata": {},
   "outputs": [],
   "source": [
    "housing_df.head()"
   ]
  },
  {
   "cell_type": "code",
   "execution_count": null,
   "metadata": {},
   "outputs": [],
   "source": [
    "housing_df['mainroad'].value_counts()"
   ]
  },
  {
   "cell_type": "code",
   "execution_count": null,
   "metadata": {},
   "outputs": [],
   "source": [
    "###Data Cleaning and preprocessing "
   ]
  },
  {
   "cell_type": "code",
   "execution_count": null,
   "metadata": {},
   "outputs": [],
   "source": [
    "missing_values = housing_df.isnull().sum()\n",
    "missing_values #no missing values in the dataset "
   ]
  },
  {
   "cell_type": "code",
   "execution_count": null,
   "metadata": {},
   "outputs": [],
   "source": [
    "duplicate_rows = housing_df[housing_df.duplicated()]\n",
    "print('Duplicate Rows: ' + duplicate_rows) #no duplicate rows in this dataset either"
   ]
  },
  {
   "cell_type": "code",
   "execution_count": null,
   "metadata": {},
   "outputs": [],
   "source": [
    "duplicate_values = housing_df.duplicated()\n",
    "duplicate_values.value_counts() #no duplicate values "
   ]
  },
  {
   "cell_type": "code",
   "execution_count": null,
   "metadata": {},
   "outputs": [],
   "source": [
    "columns_to_drop = ['prefarea', 'furnishingstatus'] #I consider that for a real estate project these 2 columns arent that big of a deal features\n",
    "housing_df.drop(columns=columns_to_drop, inplace=True)"
   ]
  },
  {
   "cell_type": "code",
   "execution_count": null,
   "metadata": {},
   "outputs": [],
   "source": [
    "housing_df.head(3)"
   ]
  },
  {
   "cell_type": "code",
   "execution_count": null,
   "metadata": {},
   "outputs": [],
   "source": [
    "# Convert categorical columns to proper data types\n",
    "housing_df['mainroad'] = housing_df['mainroad'].astype('category')\n",
    "housing_df['airconditioning'] = housing_df['airconditioning'].astype('category')"
   ]
  },
  {
   "cell_type": "code",
   "execution_count": null,
   "metadata": {},
   "outputs": [],
   "source": [
    "#data visualization"
   ]
  },
  {
   "cell_type": "code",
   "execution_count": null,
   "metadata": {},
   "outputs": [],
   "source": [
    "#Histogram of the Price for each property\n",
    "plt.figure(figsize=(10, 6))\n",
    "sns.histplot(housing_df['price'], bins=20, kde=True)\n",
    "plt.title('Price Distribution')\n",
    "plt.xlabel('Price')\n",
    "plt.ylabel('Frecuency')\n",
    "plt.show()"
   ]
  },
  {
   "cell_type": "code",
   "execution_count": null,
   "metadata": {},
   "outputs": [],
   "source": [
    "#Correlation heatmap\n",
    "plt.figure(figsize=(10, 8))\n",
    "sns.heatmap(housing_df.corr(), annot=True, cmap='coolwarm')\n",
    "plt.title('Correlation Heatmap')\n",
    "plt.show()"
   ]
  },
  {
   "cell_type": "code",
   "execution_count": null,
   "metadata": {},
   "outputs": [],
   "source": [
    "# Boxplot for categorical vs. numeric variable\n",
    "plt.figure(figsize=(10, 6))\n",
    "custom_colors = [\"#ff1d15\", \"#02a9ea\"]  # Red and green colors\n",
    "sns.boxplot(x='mainroad', y='price', data=housing_df, palette=custom_colors)\n",
    "plt.title('Mainroad vs. Price')\n",
    "plt.xlabel('Mainroad')\n",
    "plt.ylabel('Price')\n",
    "plt.show()"
   ]
  },
  {
   "cell_type": "code",
   "execution_count": null,
   "metadata": {},
   "outputs": [],
   "source": [
    "#since we already know how our data looks like, we are going to do some changes to it.\n",
    "#Removing outliers (extreme values) to get a more robust and solid analysis.\n",
    "\n",
    "Q1 = housing_df['price'].quantile(.25)\n",
    "Q3 = housing_df['price'].quantile(.75)\n",
    "IQR = Q3 - Q1\n",
    "housing_data = housing_df[(housing_df['price'] >= (Q1 - 1.5*IQR)) & (housing_df['price'] <= (Q3 + 1.5*IQR))]"
   ]
  },
  {
   "cell_type": "code",
   "execution_count": null,
   "metadata": {},
   "outputs": [],
   "source": [
    "housing_data"
   ]
  },
  {
   "cell_type": "code",
   "execution_count": null,
   "metadata": {},
   "outputs": [],
   "source": [
    "plt.figure(figsize=(10, 6))\n",
    "sns.histplot(housing_data['price'], bins=20, kde=True)\n",
    "plt.title('Price')\n",
    "plt.xlabel('price')\n",
    "plt.ylabel('frecuency')\n",
    "plt.show()"
   ]
  },
  {
   "cell_type": "code",
   "execution_count": null,
   "metadata": {},
   "outputs": [],
   "source": [
    "median_price = housing_data['price'].median()\n",
    "mean_price = housing_data['price'].mean()\n",
    "\n",
    "formatted_median_price = \"${:.2f}\".format(median_price) \n",
    "formatted_mean_price = \"${:.2f}\".format(mean_price)\n",
    "\n",
    "print('Median price of home in the dataset is: ', formatted_median_price)\n",
    "print('Mean price of home in the dataset is: ', formatted_mean_price)"
   ]
  },
  {
   "cell_type": "code",
   "execution_count": null,
   "metadata": {},
   "outputs": [],
   "source": [
    "from sklearn.linear_model import LinearRegression\n",
    "\n",
    "# Scatter plot with a line of best fit: Area vs. Price\n",
    "plt.figure(figsize=(10, 6))\n",
    "sns.scatterplot(x='area', y='price', data=housing_data, label='Data Point')\n",
    "# Fit a linear regression model\n",
    "regressor = LinearRegression()\n",
    "X = housing_data[['area']]\n",
    "y = housing_data['price']\n",
    "regressor.fit(X, y)\n",
    "\n",
    "# Plot the regression line\n",
    "plt.plot(X, regressor.predict(X), color='red', label='Line of Best Fit')\n",
    "\n",
    "plt.title('Scatter Plot of Area vs. Price with Line of Best Fit')\n",
    "plt.legend()\n",
    "plt.show()"
   ]
  }
 ],
 "metadata": {
  "kernelspec": {
   "display_name": "Python 3",
   "language": "python",
   "name": "python3"
  },
  "language_info": {
   "codemirror_mode": {
    "name": "ipython",
    "version": 3
   },
   "file_extension": ".py",
   "mimetype": "text/x-python",
   "name": "python",
   "nbconvert_exporter": "python",
   "pygments_lexer": "ipython3",
   "version": "3.8.5"
  }
 },
 "nbformat": 4,
 "nbformat_minor": 4
}
