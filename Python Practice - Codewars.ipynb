{
 "cells": [
  {
   "cell_type": "markdown",
   "metadata": {},
   "source": [
    "### 1) Check if the number of 'o' are equal to the number of 'x' "
   ]
  },
  {
   "cell_type": "code",
   "execution_count": null,
   "metadata": {},
   "outputs": [],
   "source": [
    "def xo(s):\n",
    "    low_case = s.lower()\n",
    "    o_count = low_case.count('o')\n",
    "    x_count = low_case.count('x')\n",
    "    if o_count == x_count:\n",
    "        return True\n",
    "    return False"
   ]
  },
  {
   "cell_type": "code",
   "execution_count": null,
   "metadata": {},
   "outputs": [],
   "source": [
    "xo('xxoo')"
   ]
  },
  {
   "cell_type": "code",
   "execution_count": null,
   "metadata": {},
   "outputs": [],
   "source": [
    "xo('XXxooo0')"
   ]
  },
  {
   "cell_type": "markdown",
   "metadata": {},
   "source": [
    "### 2) Century problem"
   ]
  },
  {
   "cell_type": "markdown",
   "metadata": {},
   "source": [
    "The first century spans from the year 1 up to and including the year 100, The second - from the year 101 up to and including the year 200, etc.\n",
    "\n",
    "Given a year, return the century it is in.\n",
    "\n",
    "Input , Output Examples :\n",
    "\n",
    "1705 --> 18\n",
    "\n",
    "1900 --> 19\n",
    "\n",
    "1601 --> 17\n",
    "\n",
    "2000 --> 20"
   ]
  },
  {
   "cell_type": "code",
   "execution_count": null,
   "metadata": {},
   "outputs": [],
   "source": [
    "def century(year):\n",
    "    if year % 100 == 0:\n",
    "        return year // 100\n",
    "    else:\n",
    "        return (year // 100) + 1\n",
    "    return year"
   ]
  },
  {
   "cell_type": "code",
   "execution_count": null,
   "metadata": {},
   "outputs": [],
   "source": [
    "century(1705)"
   ]
  },
  {
   "cell_type": "code",
   "execution_count": null,
   "metadata": {},
   "outputs": [],
   "source": [
    "century(354)"
   ]
  },
  {
   "cell_type": "markdown",
   "metadata": {},
   "source": [
    "### 3) Sum of two lowest positive integers"
   ]
  },
  {
   "cell_type": "markdown",
   "metadata": {},
   "source": [
    "Create a function that returns the sum of the two lowest positive numbers given an array of minimum 4 positive integers. No floats or non-positive integers will be passed.\n",
    "\n",
    "For example, when an array is passed like [19, 5, 42, 2, 77], the output should be 7.\n",
    "\n",
    "[10, 343445353, 3453445, 3453545353453] should return 3453455."
   ]
  },
  {
   "cell_type": "code",
   "execution_count": null,
   "metadata": {},
   "outputs": [],
   "source": [
    "def sum_two_smallest_numbers(numbers):\n",
    "    while len(numbers) >=4:\n",
    "        ordered_nums = sorted(numbers)\n",
    "        total = sum(ordered_nums[:2])\n",
    "        return total"
   ]
  },
  {
   "cell_type": "code",
   "execution_count": null,
   "metadata": {},
   "outputs": [],
   "source": [
    "sum_two_smallest_numbers([10, 343445353, 3453445, 3453545353453])"
   ]
  },
  {
   "cell_type": "markdown",
   "metadata": {},
   "source": [
    "### 4) Isograms"
   ]
  },
  {
   "cell_type": "markdown",
   "metadata": {},
   "source": [
    "An isogram is a word that has no repeating letters, consecutive or non-consecutive. Implement a function that determines whether a string that contains only letters is an isogram. Assume the empty string is an isogram. Ignore letter case.\n",
    "\n",
    "is_isogram(\"Dermatoglyphics\" ) == true\n",
    "\n",
    "is_isogram(\"aba\" ) == false\n",
    "\n",
    "is_isogram(\"moOse\" ) == false # -- ignore letter case"
   ]
  },
  {
   "cell_type": "code",
   "execution_count": null,
   "metadata": {},
   "outputs": [],
   "source": [
    "def is_isogram(string):\n",
    "    return len(string) == len(set(string.lower())) #set is like lst and does not allow duplicates"
   ]
  },
  {
   "cell_type": "code",
   "execution_count": null,
   "metadata": {},
   "outputs": [],
   "source": [
    "is_isogram(\"Dermatoglyphics\")"
   ]
  },
  {
   "cell_type": "code",
   "execution_count": null,
   "metadata": {},
   "outputs": [],
   "source": [
    "is_isogram(\"isogram\")"
   ]
  },
  {
   "cell_type": "code",
   "execution_count": null,
   "metadata": {},
   "outputs": [],
   "source": [
    "is_isogram(\"abc\")"
   ]
  },
  {
   "cell_type": "code",
   "execution_count": null,
   "metadata": {},
   "outputs": [],
   "source": [
    "is_isogram(\"moOse\")"
   ]
  },
  {
   "cell_type": "markdown",
   "metadata": {},
   "source": [
    "### Sum of the first nth term of Series\n",
    "Your task is to write a function which returns the sum of following series upto nth term(parameter).\n",
    "\n",
    "Series: 1 + 1/4 + 1/7 + 1/10 + 1/13 + 1/16 +...\n",
    "\n",
    "Rules:\n",
    "You need to round the answer to 2 decimal places and return it as String.\n",
    "If the given value is 0 then it should return 0.00\n",
    "You will only be given Natural Numbers as arguments.\n",
    "\n",
    "\n",
    "Examples:\n",
    "\n",
    "SeriesSum(1) => 1 = \"1.00\"\n",
    "\n",
    "SeriesSum(2) => 1 + 1/4 = \"1.25\"\n",
    "\n",
    "SeriesSum(5) => 1 + 1/4 + 1/7 + 1/10 + 1/13 = \"1.57\""
   ]
  },
  {
   "cell_type": "code",
   "execution_count": null,
   "metadata": {},
   "outputs": [],
   "source": [
    "def series_sum(n):\n",
    "    counter = 0\n",
    "    for num in range(0, n):\n",
    "        counter += 1/(1 + 3 * num)\n",
    "    return \"{:.2f}\".format(counter)"
   ]
  },
  {
   "cell_type": "code",
   "execution_count": null,
   "metadata": {},
   "outputs": [],
   "source": [
    "series_sum(1) #\"1.00\""
   ]
  },
  {
   "cell_type": "code",
   "execution_count": null,
   "metadata": {},
   "outputs": [],
   "source": [
    "series_sum(2) #\"1.25\""
   ]
  },
  {
   "cell_type": "code",
   "execution_count": 1,
   "metadata": {},
   "outputs": [
    {
     "ename": "NameError",
     "evalue": "name 'series_sum' is not defined",
     "output_type": "error",
     "traceback": [
      "\u001b[0;31m---------------------------------------------------------------------------\u001b[0m",
      "\u001b[0;31mNameError\u001b[0m                                 Traceback (most recent call last)",
      "\u001b[0;32m<ipython-input-1-5374250e4a08>\u001b[0m in \u001b[0;36m<module>\u001b[0;34m\u001b[0m\n\u001b[0;32m----> 1\u001b[0;31m \u001b[0mseries_sum\u001b[0m\u001b[0;34m(\u001b[0m\u001b[0;36m3\u001b[0m\u001b[0;34m)\u001b[0m \u001b[0;31m#\"1.39\"\u001b[0m\u001b[0;34m\u001b[0m\u001b[0;34m\u001b[0m\u001b[0m\n\u001b[0m",
      "\u001b[0;31mNameError\u001b[0m: name 'series_sum' is not defined"
     ]
    }
   ],
   "source": [
    "series_sum(3) #\"1.39\""
   ]
  }
 ],
 "metadata": {
  "kernelspec": {
   "display_name": "Python 3",
   "language": "python",
   "name": "python3"
  },
  "language_info": {
   "codemirror_mode": {
    "name": "ipython",
    "version": 3
   },
   "file_extension": ".py",
   "mimetype": "text/x-python",
   "name": "python",
   "nbconvert_exporter": "python",
   "pygments_lexer": "ipython3",
   "version": "3.8.5"
  }
 },
 "nbformat": 4,
 "nbformat_minor": 4
}
